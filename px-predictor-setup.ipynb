
print("Welcome to Machine Learning!")
